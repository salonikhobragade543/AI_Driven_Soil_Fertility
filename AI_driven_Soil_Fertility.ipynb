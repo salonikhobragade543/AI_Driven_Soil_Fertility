{
 "cells": [
  {
   "cell_type": "code",
   "execution_count": 95,
   "id": "a28dccff-8e44-42f0-9544-feeb2532e0f4",
   "metadata": {},
   "outputs": [],
   "source": [
    "import pandas as pd\n",
    "import numpy as np\n",
    "import seaborn as sns\n",
    "from sklearn.metrics import classification_report\n",
    "from sklearn.model_selection import train_test_split"
   ]
  },
  {
   "cell_type": "code",
   "execution_count": 2,
   "id": "178ea748-941b-4a83-af9c-e1eb186936d5",
   "metadata": {},
   "outputs": [
    {
     "data": {
      "text/html": [
       "<div>\n",
       "<style scoped>\n",
       "    .dataframe tbody tr th:only-of-type {\n",
       "        vertical-align: middle;\n",
       "    }\n",
       "\n",
       "    .dataframe tbody tr th {\n",
       "        vertical-align: top;\n",
       "    }\n",
       "\n",
       "    .dataframe thead th {\n",
       "        text-align: right;\n",
       "    }\n",
       "</style>\n",
       "<table border=\"1\" class=\"dataframe\">\n",
       "  <thead>\n",
       "    <tr style=\"text-align: right;\">\n",
       "      <th></th>\n",
       "      <th>N</th>\n",
       "      <th>P</th>\n",
       "      <th>K</th>\n",
       "      <th>ph</th>\n",
       "      <th>ec</th>\n",
       "      <th>oc</th>\n",
       "      <th>S</th>\n",
       "      <th>zn</th>\n",
       "      <th>fe</th>\n",
       "      <th>cu</th>\n",
       "      <th>Mn</th>\n",
       "      <th>B</th>\n",
       "      <th>fertility</th>\n",
       "    </tr>\n",
       "  </thead>\n",
       "  <tbody>\n",
       "    <tr>\n",
       "      <th>0</th>\n",
       "      <td>138</td>\n",
       "      <td>8.6</td>\n",
       "      <td>560</td>\n",
       "      <td>7.46</td>\n",
       "      <td>0.62</td>\n",
       "      <td>0.70</td>\n",
       "      <td>5.9</td>\n",
       "      <td>0.24</td>\n",
       "      <td>0.31</td>\n",
       "      <td>0.77</td>\n",
       "      <td>8.71</td>\n",
       "      <td>0.11</td>\n",
       "      <td>0</td>\n",
       "    </tr>\n",
       "    <tr>\n",
       "      <th>1</th>\n",
       "      <td>213</td>\n",
       "      <td>7.5</td>\n",
       "      <td>338</td>\n",
       "      <td>7.62</td>\n",
       "      <td>0.75</td>\n",
       "      <td>1.06</td>\n",
       "      <td>25.4</td>\n",
       "      <td>0.30</td>\n",
       "      <td>0.86</td>\n",
       "      <td>1.54</td>\n",
       "      <td>2.89</td>\n",
       "      <td>2.29</td>\n",
       "      <td>0</td>\n",
       "    </tr>\n",
       "    <tr>\n",
       "      <th>2</th>\n",
       "      <td>163</td>\n",
       "      <td>9.6</td>\n",
       "      <td>718</td>\n",
       "      <td>7.59</td>\n",
       "      <td>0.51</td>\n",
       "      <td>1.11</td>\n",
       "      <td>14.3</td>\n",
       "      <td>0.30</td>\n",
       "      <td>0.86</td>\n",
       "      <td>1.57</td>\n",
       "      <td>2.70</td>\n",
       "      <td>2.03</td>\n",
       "      <td>0</td>\n",
       "    </tr>\n",
       "    <tr>\n",
       "      <th>3</th>\n",
       "      <td>157</td>\n",
       "      <td>6.8</td>\n",
       "      <td>475</td>\n",
       "      <td>7.64</td>\n",
       "      <td>0.58</td>\n",
       "      <td>0.94</td>\n",
       "      <td>26.0</td>\n",
       "      <td>0.34</td>\n",
       "      <td>0.54</td>\n",
       "      <td>1.53</td>\n",
       "      <td>2.65</td>\n",
       "      <td>1.82</td>\n",
       "      <td>0</td>\n",
       "    </tr>\n",
       "    <tr>\n",
       "      <th>4</th>\n",
       "      <td>220</td>\n",
       "      <td>8.6</td>\n",
       "      <td>444</td>\n",
       "      <td>7.43</td>\n",
       "      <td>0.65</td>\n",
       "      <td>0.72</td>\n",
       "      <td>11.7</td>\n",
       "      <td>0.37</td>\n",
       "      <td>0.66</td>\n",
       "      <td>0.90</td>\n",
       "      <td>2.19</td>\n",
       "      <td>1.82</td>\n",
       "      <td>0</td>\n",
       "    </tr>\n",
       "  </tbody>\n",
       "</table>\n",
       "</div>"
      ],
      "text/plain": [
       "     N    P    K    ph    ec    oc     S    zn    fe    cu    Mn     B  \\\n",
       "0  138  8.6  560  7.46  0.62  0.70   5.9  0.24  0.31  0.77  8.71  0.11   \n",
       "1  213  7.5  338  7.62  0.75  1.06  25.4  0.30  0.86  1.54  2.89  2.29   \n",
       "2  163  9.6  718  7.59  0.51  1.11  14.3  0.30  0.86  1.57  2.70  2.03   \n",
       "3  157  6.8  475  7.64  0.58  0.94  26.0  0.34  0.54  1.53  2.65  1.82   \n",
       "4  220  8.6  444  7.43  0.65  0.72  11.7  0.37  0.66  0.90  2.19  1.82   \n",
       "\n",
       "   fertility  \n",
       "0          0  \n",
       "1          0  \n",
       "2          0  \n",
       "3          0  \n",
       "4          0  "
      ]
     },
     "execution_count": 2,
     "metadata": {},
     "output_type": "execute_result"
    }
   ],
   "source": [
    "data = pd.read_csv('Soil Fertility Data (Modified Data).csv')\n",
    "data.head()"
   ]
  },
  {
   "cell_type": "code",
   "execution_count": 4,
   "id": "d71000d6-9566-4a54-9c69-55f89544e09c",
   "metadata": {},
   "outputs": [
    {
     "data": {
      "text/plain": [
       "N            0\n",
       "P            0\n",
       "K            0\n",
       "ph           0\n",
       "ec           0\n",
       "oc           0\n",
       "S            0\n",
       "zn           0\n",
       "fe           0\n",
       "cu           0\n",
       "Mn           0\n",
       "B            0\n",
       "fertility    0\n",
       "dtype: int64"
      ]
     },
     "execution_count": 4,
     "metadata": {},
     "output_type": "execute_result"
    }
   ],
   "source": [
    "data.isna().sum()"
   ]
  },
  {
   "cell_type": "code",
   "execution_count": 6,
   "id": "5c833563-cf50-40a5-a004-8b2cf79027f2",
   "metadata": {},
   "outputs": [
    {
     "name": "stdout",
     "output_type": "stream",
     "text": [
      "<class 'pandas.core.frame.DataFrame'>\n",
      "RangeIndex: 1288 entries, 0 to 1287\n",
      "Data columns (total 13 columns):\n",
      " #   Column     Non-Null Count  Dtype  \n",
      "---  ------     --------------  -----  \n",
      " 0   N          1288 non-null   int64  \n",
      " 1   P          1288 non-null   float64\n",
      " 2   K          1288 non-null   int64  \n",
      " 3   ph         1288 non-null   float64\n",
      " 4   ec         1288 non-null   float64\n",
      " 5   oc         1288 non-null   float64\n",
      " 6   S          1288 non-null   float64\n",
      " 7   zn         1288 non-null   float64\n",
      " 8   fe         1288 non-null   float64\n",
      " 9   cu         1288 non-null   float64\n",
      " 10  Mn         1288 non-null   float64\n",
      " 11  B          1288 non-null   float64\n",
      " 12  fertility  1288 non-null   int64  \n",
      "dtypes: float64(10), int64(3)\n",
      "memory usage: 130.9 KB\n"
     ]
    }
   ],
   "source": [
    "data.info()"
   ]
  },
  {
   "cell_type": "code",
   "execution_count": 7,
   "id": "ab4f5033-6612-4d0f-8167-6d502aba8488",
   "metadata": {},
   "outputs": [
    {
     "data": {
      "text/plain": [
       "(1288, 13)"
      ]
     },
     "execution_count": 7,
     "metadata": {},
     "output_type": "execute_result"
    }
   ],
   "source": [
    "data.shape"
   ]
  },
  {
   "cell_type": "code",
   "execution_count": 8,
   "id": "11969b9e-6b06-471c-b3c4-f7a7e83d4c55",
   "metadata": {},
   "outputs": [
    {
     "data": {
      "text/html": [
       "<div>\n",
       "<style scoped>\n",
       "    .dataframe tbody tr th:only-of-type {\n",
       "        vertical-align: middle;\n",
       "    }\n",
       "\n",
       "    .dataframe tbody tr th {\n",
       "        vertical-align: top;\n",
       "    }\n",
       "\n",
       "    .dataframe thead th {\n",
       "        text-align: right;\n",
       "    }\n",
       "</style>\n",
       "<table border=\"1\" class=\"dataframe\">\n",
       "  <thead>\n",
       "    <tr style=\"text-align: right;\">\n",
       "      <th></th>\n",
       "      <th>N</th>\n",
       "      <th>P</th>\n",
       "      <th>K</th>\n",
       "      <th>ph</th>\n",
       "      <th>ec</th>\n",
       "      <th>oc</th>\n",
       "      <th>S</th>\n",
       "      <th>zn</th>\n",
       "      <th>fe</th>\n",
       "      <th>cu</th>\n",
       "      <th>Mn</th>\n",
       "      <th>B</th>\n",
       "      <th>fertility</th>\n",
       "    </tr>\n",
       "  </thead>\n",
       "  <tbody>\n",
       "    <tr>\n",
       "      <th>N</th>\n",
       "      <td>1.000000</td>\n",
       "      <td>0.093832</td>\n",
       "      <td>0.038923</td>\n",
       "      <td>0.121486</td>\n",
       "      <td>-0.070546</td>\n",
       "      <td>0.008829</td>\n",
       "      <td>-0.235340</td>\n",
       "      <td>0.023866</td>\n",
       "      <td>0.099257</td>\n",
       "      <td>-0.256674</td>\n",
       "      <td>0.130461</td>\n",
       "      <td>-0.240333</td>\n",
       "      <td>0.659255</td>\n",
       "    </tr>\n",
       "    <tr>\n",
       "      <th>P</th>\n",
       "      <td>0.093832</td>\n",
       "      <td>1.000000</td>\n",
       "      <td>0.100911</td>\n",
       "      <td>0.016134</td>\n",
       "      <td>0.088453</td>\n",
       "      <td>-0.002942</td>\n",
       "      <td>-0.113835</td>\n",
       "      <td>-0.018667</td>\n",
       "      <td>0.100791</td>\n",
       "      <td>-0.069810</td>\n",
       "      <td>-0.059330</td>\n",
       "      <td>-0.101292</td>\n",
       "      <td>0.234447</td>\n",
       "    </tr>\n",
       "    <tr>\n",
       "      <th>K</th>\n",
       "      <td>0.038923</td>\n",
       "      <td>0.100911</td>\n",
       "      <td>1.000000</td>\n",
       "      <td>0.027218</td>\n",
       "      <td>-0.090475</td>\n",
       "      <td>-0.022500</td>\n",
       "      <td>0.058651</td>\n",
       "      <td>0.000427</td>\n",
       "      <td>-0.152482</td>\n",
       "      <td>-0.075039</td>\n",
       "      <td>0.030665</td>\n",
       "      <td>0.125149</td>\n",
       "      <td>0.001726</td>\n",
       "    </tr>\n",
       "    <tr>\n",
       "      <th>ph</th>\n",
       "      <td>0.121486</td>\n",
       "      <td>0.016134</td>\n",
       "      <td>0.027218</td>\n",
       "      <td>1.000000</td>\n",
       "      <td>0.018229</td>\n",
       "      <td>-0.029233</td>\n",
       "      <td>0.027662</td>\n",
       "      <td>-0.008797</td>\n",
       "      <td>-0.046303</td>\n",
       "      <td>0.015778</td>\n",
       "      <td>-0.020260</td>\n",
       "      <td>0.014457</td>\n",
       "      <td>0.127335</td>\n",
       "    </tr>\n",
       "    <tr>\n",
       "      <th>ec</th>\n",
       "      <td>-0.070546</td>\n",
       "      <td>0.088453</td>\n",
       "      <td>-0.090475</td>\n",
       "      <td>0.018229</td>\n",
       "      <td>1.000000</td>\n",
       "      <td>0.003355</td>\n",
       "      <td>0.099952</td>\n",
       "      <td>-0.024310</td>\n",
       "      <td>-0.086731</td>\n",
       "      <td>0.023008</td>\n",
       "      <td>0.005247</td>\n",
       "      <td>0.007272</td>\n",
       "      <td>-0.081856</td>\n",
       "    </tr>\n",
       "    <tr>\n",
       "      <th>oc</th>\n",
       "      <td>0.008829</td>\n",
       "      <td>-0.002942</td>\n",
       "      <td>-0.022500</td>\n",
       "      <td>-0.029233</td>\n",
       "      <td>0.003355</td>\n",
       "      <td>1.000000</td>\n",
       "      <td>0.043683</td>\n",
       "      <td>0.605668</td>\n",
       "      <td>0.210331</td>\n",
       "      <td>0.015133</td>\n",
       "      <td>-0.064141</td>\n",
       "      <td>0.090147</td>\n",
       "      <td>0.043513</td>\n",
       "    </tr>\n",
       "    <tr>\n",
       "      <th>S</th>\n",
       "      <td>-0.235340</td>\n",
       "      <td>-0.113835</td>\n",
       "      <td>0.058651</td>\n",
       "      <td>0.027662</td>\n",
       "      <td>0.099952</td>\n",
       "      <td>0.043683</td>\n",
       "      <td>1.000000</td>\n",
       "      <td>-0.006780</td>\n",
       "      <td>-0.216963</td>\n",
       "      <td>0.177997</td>\n",
       "      <td>-0.132230</td>\n",
       "      <td>0.429421</td>\n",
       "      <td>-0.157644</td>\n",
       "    </tr>\n",
       "    <tr>\n",
       "      <th>zn</th>\n",
       "      <td>0.023866</td>\n",
       "      <td>-0.018667</td>\n",
       "      <td>0.000427</td>\n",
       "      <td>-0.008797</td>\n",
       "      <td>-0.024310</td>\n",
       "      <td>0.605668</td>\n",
       "      <td>-0.006780</td>\n",
       "      <td>1.000000</td>\n",
       "      <td>0.467914</td>\n",
       "      <td>-0.030785</td>\n",
       "      <td>-0.054453</td>\n",
       "      <td>0.057715</td>\n",
       "      <td>-0.001295</td>\n",
       "    </tr>\n",
       "    <tr>\n",
       "      <th>fe</th>\n",
       "      <td>0.099257</td>\n",
       "      <td>0.100791</td>\n",
       "      <td>-0.152482</td>\n",
       "      <td>-0.046303</td>\n",
       "      <td>-0.086731</td>\n",
       "      <td>0.210331</td>\n",
       "      <td>-0.216963</td>\n",
       "      <td>0.467914</td>\n",
       "      <td>1.000000</td>\n",
       "      <td>0.186790</td>\n",
       "      <td>0.225458</td>\n",
       "      <td>-0.379040</td>\n",
       "      <td>0.010342</td>\n",
       "    </tr>\n",
       "    <tr>\n",
       "      <th>cu</th>\n",
       "      <td>-0.256674</td>\n",
       "      <td>-0.069810</td>\n",
       "      <td>-0.075039</td>\n",
       "      <td>0.015778</td>\n",
       "      <td>0.023008</td>\n",
       "      <td>0.015133</td>\n",
       "      <td>0.177997</td>\n",
       "      <td>-0.030785</td>\n",
       "      <td>0.186790</td>\n",
       "      <td>1.000000</td>\n",
       "      <td>0.068562</td>\n",
       "      <td>0.062537</td>\n",
       "      <td>-0.178057</td>\n",
       "    </tr>\n",
       "    <tr>\n",
       "      <th>Mn</th>\n",
       "      <td>0.130461</td>\n",
       "      <td>-0.059330</td>\n",
       "      <td>0.030665</td>\n",
       "      <td>-0.020260</td>\n",
       "      <td>0.005247</td>\n",
       "      <td>-0.064141</td>\n",
       "      <td>-0.132230</td>\n",
       "      <td>-0.054453</td>\n",
       "      <td>0.225458</td>\n",
       "      <td>0.068562</td>\n",
       "      <td>1.000000</td>\n",
       "      <td>-0.401705</td>\n",
       "      <td>0.004136</td>\n",
       "    </tr>\n",
       "    <tr>\n",
       "      <th>B</th>\n",
       "      <td>-0.240333</td>\n",
       "      <td>-0.101292</td>\n",
       "      <td>0.125149</td>\n",
       "      <td>0.014457</td>\n",
       "      <td>0.007272</td>\n",
       "      <td>0.090147</td>\n",
       "      <td>0.429421</td>\n",
       "      <td>0.057715</td>\n",
       "      <td>-0.379040</td>\n",
       "      <td>0.062537</td>\n",
       "      <td>-0.401705</td>\n",
       "      <td>1.000000</td>\n",
       "      <td>0.029883</td>\n",
       "    </tr>\n",
       "    <tr>\n",
       "      <th>fertility</th>\n",
       "      <td>0.659255</td>\n",
       "      <td>0.234447</td>\n",
       "      <td>0.001726</td>\n",
       "      <td>0.127335</td>\n",
       "      <td>-0.081856</td>\n",
       "      <td>0.043513</td>\n",
       "      <td>-0.157644</td>\n",
       "      <td>-0.001295</td>\n",
       "      <td>0.010342</td>\n",
       "      <td>-0.178057</td>\n",
       "      <td>0.004136</td>\n",
       "      <td>0.029883</td>\n",
       "      <td>1.000000</td>\n",
       "    </tr>\n",
       "  </tbody>\n",
       "</table>\n",
       "</div>"
      ],
      "text/plain": [
       "                  N         P         K        ph        ec        oc  \\\n",
       "N          1.000000  0.093832  0.038923  0.121486 -0.070546  0.008829   \n",
       "P          0.093832  1.000000  0.100911  0.016134  0.088453 -0.002942   \n",
       "K          0.038923  0.100911  1.000000  0.027218 -0.090475 -0.022500   \n",
       "ph         0.121486  0.016134  0.027218  1.000000  0.018229 -0.029233   \n",
       "ec        -0.070546  0.088453 -0.090475  0.018229  1.000000  0.003355   \n",
       "oc         0.008829 -0.002942 -0.022500 -0.029233  0.003355  1.000000   \n",
       "S         -0.235340 -0.113835  0.058651  0.027662  0.099952  0.043683   \n",
       "zn         0.023866 -0.018667  0.000427 -0.008797 -0.024310  0.605668   \n",
       "fe         0.099257  0.100791 -0.152482 -0.046303 -0.086731  0.210331   \n",
       "cu        -0.256674 -0.069810 -0.075039  0.015778  0.023008  0.015133   \n",
       "Mn         0.130461 -0.059330  0.030665 -0.020260  0.005247 -0.064141   \n",
       "B         -0.240333 -0.101292  0.125149  0.014457  0.007272  0.090147   \n",
       "fertility  0.659255  0.234447  0.001726  0.127335 -0.081856  0.043513   \n",
       "\n",
       "                  S        zn        fe        cu        Mn         B  \\\n",
       "N         -0.235340  0.023866  0.099257 -0.256674  0.130461 -0.240333   \n",
       "P         -0.113835 -0.018667  0.100791 -0.069810 -0.059330 -0.101292   \n",
       "K          0.058651  0.000427 -0.152482 -0.075039  0.030665  0.125149   \n",
       "ph         0.027662 -0.008797 -0.046303  0.015778 -0.020260  0.014457   \n",
       "ec         0.099952 -0.024310 -0.086731  0.023008  0.005247  0.007272   \n",
       "oc         0.043683  0.605668  0.210331  0.015133 -0.064141  0.090147   \n",
       "S          1.000000 -0.006780 -0.216963  0.177997 -0.132230  0.429421   \n",
       "zn        -0.006780  1.000000  0.467914 -0.030785 -0.054453  0.057715   \n",
       "fe        -0.216963  0.467914  1.000000  0.186790  0.225458 -0.379040   \n",
       "cu         0.177997 -0.030785  0.186790  1.000000  0.068562  0.062537   \n",
       "Mn        -0.132230 -0.054453  0.225458  0.068562  1.000000 -0.401705   \n",
       "B          0.429421  0.057715 -0.379040  0.062537 -0.401705  1.000000   \n",
       "fertility -0.157644 -0.001295  0.010342 -0.178057  0.004136  0.029883   \n",
       "\n",
       "           fertility  \n",
       "N           0.659255  \n",
       "P           0.234447  \n",
       "K           0.001726  \n",
       "ph          0.127335  \n",
       "ec         -0.081856  \n",
       "oc          0.043513  \n",
       "S          -0.157644  \n",
       "zn         -0.001295  \n",
       "fe          0.010342  \n",
       "cu         -0.178057  \n",
       "Mn          0.004136  \n",
       "B           0.029883  \n",
       "fertility   1.000000  "
      ]
     },
     "execution_count": 8,
     "metadata": {},
     "output_type": "execute_result"
    }
   ],
   "source": [
    "data.corr( numeric_only = True)"
   ]
  },
  {
   "cell_type": "code",
   "execution_count": 25,
   "id": "091c44d5-fff2-462d-b1ac-930c8ada90d4",
   "metadata": {},
   "outputs": [
    {
     "data": {
      "text/plain": [
       "<Axes: >"
      ]
     },
     "execution_count": 25,
     "metadata": {},
     "output_type": "execute_result"
    },
    {
     "data": {
      "image/png": "[encoded data removed]",
      "text/plain": [
       "<Figure size 640x480 with 2 Axes>"
      ]
     },
     "metadata": {},
     "output_type": "display_data"
    }
   ],
   "source": [
    "sns.heatmap(data.corr( numeric_only = True))# used when we want to get the relation between all the numerial quantities"
   ]
  },
  {
   "cell_type": "code",
   "execution_count": 10,
   "id": "9d1c4dbe-9d89-420f-8e39-1b343f276f8b",
   "metadata": {},
   "outputs": [
    {
     "data": {
      "text/plain": [
       "Index(['N', 'P', 'K', 'ph', 'ec', 'oc', 'S', 'zn', 'fe', 'cu', 'Mn', 'B',\n",
       "       'fertility'],\n",
       "      dtype='object')"
      ]
     },
     "execution_count": 10,
     "metadata": {},
     "output_type": "execute_result"
    }
   ],
   "source": [
    "data.columns"
   ]
  },
  {
   "cell_type": "code",
   "execution_count": 23,
   "id": "1095ab9b-eb51-424c-8254-0920aaf54ce4",
   "metadata": {},
   "outputs": [
    {
     "data": {
      "text/plain": [
       "fertility\n",
       "2    447\n",
       "1    440\n",
       "0    401\n",
       "Name: count, dtype: int64"
      ]
     },
     "execution_count": 23,
     "metadata": {},
     "output_type": "execute_result"
    }
   ],
   "source": [
    "data['fertility'].value_counts()"
   ]
  },
  {
   "cell_type": "markdown",
   "id": "a7820a9e-c902-4a26-9717-3825c7cf1172",
   "metadata": {},
   "source": [
    "0 describes low-fertility\n",
    "1 describes medium-fertility\n",
    "2 describes high-fertility"
   ]
  },
  {
   "cell_type": "code",
   "execution_count": 24,
   "id": "ca6032f3-1ec0-43cf-a136-96aeabb63f81",
   "metadata": {},
   "outputs": [
    {
     "data": {
      "text/html": [
       "<div>\n",
       "<style scoped>\n",
       "    .dataframe tbody tr th:only-of-type {\n",
       "        vertical-align: middle;\n",
       "    }\n",
       "\n",
       "    .dataframe tbody tr th {\n",
       "        vertical-align: top;\n",
       "    }\n",
       "\n",
       "    .dataframe thead th {\n",
       "        text-align: right;\n",
       "    }\n",
       "</style>\n",
       "<table border=\"1\" class=\"dataframe\">\n",
       "  <thead>\n",
       "    <tr style=\"text-align: right;\">\n",
       "      <th></th>\n",
       "      <th>N</th>\n",
       "      <th>P</th>\n",
       "      <th>K</th>\n",
       "      <th>ph</th>\n",
       "      <th>ec</th>\n",
       "      <th>oc</th>\n",
       "      <th>S</th>\n",
       "      <th>zn</th>\n",
       "      <th>fe</th>\n",
       "      <th>cu</th>\n",
       "      <th>Mn</th>\n",
       "      <th>B</th>\n",
       "      <th>fertility</th>\n",
       "    </tr>\n",
       "  </thead>\n",
       "  <tbody>\n",
       "    <tr>\n",
       "      <th>0</th>\n",
       "      <td>138</td>\n",
       "      <td>8.6</td>\n",
       "      <td>560</td>\n",
       "      <td>7.46</td>\n",
       "      <td>0.62</td>\n",
       "      <td>0.70</td>\n",
       "      <td>5.9</td>\n",
       "      <td>0.24</td>\n",
       "      <td>0.31</td>\n",
       "      <td>0.77</td>\n",
       "      <td>8.71</td>\n",
       "      <td>0.11</td>\n",
       "      <td>0</td>\n",
       "    </tr>\n",
       "    <tr>\n",
       "      <th>1</th>\n",
       "      <td>213</td>\n",
       "      <td>7.5</td>\n",
       "      <td>338</td>\n",
       "      <td>7.62</td>\n",
       "      <td>0.75</td>\n",
       "      <td>1.06</td>\n",
       "      <td>25.4</td>\n",
       "      <td>0.30</td>\n",
       "      <td>0.86</td>\n",
       "      <td>1.54</td>\n",
       "      <td>2.89</td>\n",
       "      <td>2.29</td>\n",
       "      <td>0</td>\n",
       "    </tr>\n",
       "    <tr>\n",
       "      <th>2</th>\n",
       "      <td>163</td>\n",
       "      <td>9.6</td>\n",
       "      <td>718</td>\n",
       "      <td>7.59</td>\n",
       "      <td>0.51</td>\n",
       "      <td>1.11</td>\n",
       "      <td>14.3</td>\n",
       "      <td>0.30</td>\n",
       "      <td>0.86</td>\n",
       "      <td>1.57</td>\n",
       "      <td>2.70</td>\n",
       "      <td>2.03</td>\n",
       "      <td>0</td>\n",
       "    </tr>\n",
       "    <tr>\n",
       "      <th>3</th>\n",
       "      <td>157</td>\n",
       "      <td>6.8</td>\n",
       "      <td>475</td>\n",
       "      <td>7.64</td>\n",
       "      <td>0.58</td>\n",
       "      <td>0.94</td>\n",
       "      <td>26.0</td>\n",
       "      <td>0.34</td>\n",
       "      <td>0.54</td>\n",
       "      <td>1.53</td>\n",
       "      <td>2.65</td>\n",
       "      <td>1.82</td>\n",
       "      <td>0</td>\n",
       "    </tr>\n",
       "    <tr>\n",
       "      <th>4</th>\n",
       "      <td>220</td>\n",
       "      <td>8.6</td>\n",
       "      <td>444</td>\n",
       "      <td>7.43</td>\n",
       "      <td>0.65</td>\n",
       "      <td>0.72</td>\n",
       "      <td>11.7</td>\n",
       "      <td>0.37</td>\n",
       "      <td>0.66</td>\n",
       "      <td>0.90</td>\n",
       "      <td>2.19</td>\n",
       "      <td>1.82</td>\n",
       "      <td>0</td>\n",
       "    </tr>\n",
       "  </tbody>\n",
       "</table>\n",
       "</div>"
      ],
      "text/plain": [
       "     N    P    K    ph    ec    oc     S    zn    fe    cu    Mn     B  \\\n",
       "0  138  8.6  560  7.46  0.62  0.70   5.9  0.24  0.31  0.77  8.71  0.11   \n",
       "1  213  7.5  338  7.62  0.75  1.06  25.4  0.30  0.86  1.54  2.89  2.29   \n",
       "2  163  9.6  718  7.59  0.51  1.11  14.3  0.30  0.86  1.57  2.70  2.03   \n",
       "3  157  6.8  475  7.64  0.58  0.94  26.0  0.34  0.54  1.53  2.65  1.82   \n",
       "4  220  8.6  444  7.43  0.65  0.72  11.7  0.37  0.66  0.90  2.19  1.82   \n",
       "\n",
       "   fertility  \n",
       "0          0  \n",
       "1          0  \n",
       "2          0  \n",
       "3          0  \n",
       "4          0  "
      ]
     },
     "execution_count": 24,
     "metadata": {},
     "output_type": "execute_result"
    }
   ],
   "source": [
    "rawDataCopy = data.copy()\n",
    "rawDataCopy.head()"
   ]
  },
  {
   "cell_type": "code",
   "execution_count": 28,
   "id": "eab0c657-9872-4e2a-87a1-b3cfd0973331",
   "metadata": {},
   "outputs": [],
   "source": [
    "labels = rawDataCopy[['fertility']]\n",
    "features = rawDataCopy.drop('fertility', axis=1)"
   ]
  },
  {
   "cell_type": "code",
   "execution_count": 29,
   "id": "1639f722-691f-4d02-a06e-c223098184bd",
   "metadata": {},
   "outputs": [
    {
     "data": {
      "image/png": "[encoded data removed]",
      "text/plain": [
       "<Figure size 1000x1000 with 12 Axes>"
      ]
     },
     "metadata": {},
     "output_type": "display_data"
    }
   ],
   "source": [
    "features.hist(bins=50, figsize=(10, 10), color ='green', grid=False)\n",
    "plt.show()"
   ]
  },
  {
   "cell_type": "code",
   "execution_count": 31,
   "id": "02ac2c9a-3483-4999-b8d6-f3ed613de6d7",
   "metadata": {},
   "outputs": [
    {
     "data": {
      "text/plain": [
       "<Axes: ylabel='Density'>"
      ]
     },
     "execution_count": 31,
     "metadata": {},
     "output_type": "execute_result"
    },
    {
     "data": {
      "image/png": "[encoded data removed]",
      "text/plain": [
       "<Figure size 640x480 with 1 Axes>"
      ]
     },
     "metadata": {},
     "output_type": "display_data"
    }
   ],
   "source": [
    "data[\"N\"].plot(kind = \"kde\")#normal Distribution"
   ]
  },
  {
   "cell_type": "code",
   "execution_count": 103,
   "id": "7bc9ed03-dea1-4a7a-a148-2568126f47a2",
   "metadata": {},
   "outputs": [
    {
     "name": "stdout",
     "output_type": "stream",
     "text": [
      "        N     P    K    ph    ec    oc      S    zn    fe    cu     Mn     B  \\\n",
      "0     138   8.6  560  7.46  0.62  0.70   5.90  0.24  0.31  0.77   8.71  0.11   \n",
      "1     213   7.5  338  7.62  0.75  1.06  25.40  0.30  0.86  1.54   2.89  2.29   \n",
      "2     163   9.6  718  7.59  0.51  1.11  14.30  0.30  0.86  1.57   2.70  2.03   \n",
      "3     157   6.8  475  7.64  0.58  0.94  26.00  0.34  0.54  1.53   2.65  1.82   \n",
      "4     220   8.6  444  7.43  0.65  0.72  11.70  0.37  0.66  0.90   2.19  1.82   \n",
      "...   ...   ...  ...   ...   ...   ...    ...   ...   ...   ...    ...   ...   \n",
      "1283  326  13.4  454  7.13  0.51  0.88   5.13  0.29  4.85  0.78   9.32  0.27   \n",
      "1284  333  14.9  422  8.26  0.48  1.17   3.32  0.60  7.62  1.02  11.65  0.29   \n",
      "1285  320  13.8  391  7.38  0.65  0.68   7.54  0.38  5.41  0.89   9.05  0.63   \n",
      "1286  333  14.3  507  7.43  0.61  0.88   7.24  0.37  1.26  1.37  12.03  0.29   \n",
      "1287  358  13.2  444  7.80  0.29  0.49   4.52  0.26  5.26  1.25   6.25  0.48   \n",
      "\n",
      "      fertility  \n",
      "0             0  \n",
      "1             0  \n",
      "2             0  \n",
      "3             0  \n",
      "4             0  \n",
      "...         ...  \n",
      "1283          2  \n",
      "1284          2  \n",
      "1285          2  \n",
      "1286          2  \n",
      "1287          2  \n",
      "\n",
      "[1288 rows x 13 columns]\n"
     ]
    }
   ],
   "source": [
    "print(data)"
   ]
  },
  {
   "cell_type": "code",
   "execution_count": 105,
   "id": "d4511012-f0b2-4953-9427-953b75e98eff",
   "metadata": {},
   "outputs": [
    {
     "name": "stdout",
     "output_type": "stream",
     "text": [
      "Index(['N', 'P', 'K', 'ph', 'ec', 'oc', 'S', 'zn', 'fe', 'cu', 'Mn', 'B',\n",
      "       'fertility'],\n",
      "      dtype='object')\n"
     ]
    }
   ],
   "source": [
    "print(data.columns)  # This will list all feature names"
   ]
  },
  {
   "cell_type": "code",
   "execution_count": 106,
   "id": "297b96c1-0ed7-42c8-ad72-54b78f54a8bf",
   "metadata": {},
   "outputs": [
    {
     "name": "stdout",
     "output_type": "stream",
     "text": [
      "['sepal length (cm)', 'sepal width (cm)', 'petal length (cm)', 'petal width (cm)']\n",
      "Index(['sepal length (cm)', 'sepal width (cm)', 'petal length (cm)',\n",
      "       'petal width (cm)'],\n",
      "      dtype='object')\n"
     ]
    }
   ],
   "source": [
    "from sklearn.datasets import load_iris\n",
    "import pandas as pd\n",
    "\n",
    "# Load dataset\n",
    "iris = load_iris()\n",
    "\n",
    "# Get feature names BEFORE converting to DataFrame\n",
    "print(iris.feature_names)\n",
    "\n",
    "# Convert to DataFrame\n",
    "df = pd.DataFrame(iris.data, columns=iris.feature_names)\n",
    "print(df.columns)\n"
   ]
  },
  {
   "cell_type": "code",
   "execution_count": 119,
   "id": "02050afd-2dd9-4c40-92b6-9405d9539358",
   "metadata": {},
   "outputs": [],
   "source": [
    "from sklearn.linear_model import LogisticRegression\n",
    "from sklearn.metrics import accuracy_score, precision_score, recall_score, f1_score, classification_report"
   ]
  },
  {
   "cell_type": "code",
   "execution_count": 120,
   "id": "9027a57d-faff-428e-a2c3-efe8d392fe42",
   "metadata": {},
   "outputs": [],
   "source": [
    "\n",
    "X_train, X_test, y_train, y_test = train_test_split(data.data, data.target, test_size=0.2, random_state=42)\n",
    "\n",
    "# Initialize and train model\n",
    "model = LogisticRegression()\n",
    "model.fit(X_train, y_train)\n",
    "\n",
    "# Predict\n",
    "y_pred = model.predict(X_test)"
   ]
  },
  {
   "cell_type": "code",
   "execution_count": 121,
   "id": "1e4cb9bd-597a-4f11-8767-cf536474e0e5",
   "metadata": {},
   "outputs": [],
   "source": [
    "accuracy = accuracy_score(y_test, y_pred)\n",
    "precision = precision_score(y_test, y_pred, average='weighted')  # Use 'macro' or 'micro' as needed\n",
    "recall = recall_score(y_test, y_pred, average='weighted')\n",
    "f1 = f1_score(y_test, y_pred, average='weighted')"
   ]
  },
  {
   "cell_type": "code",
   "execution_count": 122,
   "id": "6f405b88-44d4-4df2-8181-eefc67bfe5b2",
   "metadata": {},
   "outputs": [
    {
     "name": "stdout",
     "output_type": "stream",
     "text": [
      "Accuracy: 1.0000\n",
      "Precision: 1.0000\n",
      "Recall: 1.0000\n",
      "F1 Score: 1.0000\n"
     ]
    }
   ],
   "source": [
    "print(f\"Accuracy: {accuracy:.4f}\")\n",
    "print(f\"Precision: {precision:.4f}\")\n",
    "print(f\"Recall: {recall:.4f}\")\n",
    "print(f\"F1 Score: {f1:.4f}\")"
   ]
  },
  {
   "cell_type": "code",
   "execution_count": 123,
   "id": "2a0aeb66-0632-4604-856b-efd5132b4ff7",
   "metadata": {},
   "outputs": [
    {
     "name": "stdout",
     "output_type": "stream",
     "text": [
      "\n",
      "Classification Report:\n",
      "               precision    recall  f1-score   support\n",
      "\n",
      "           0       1.00      1.00      1.00        10\n",
      "           1       1.00      1.00      1.00         9\n",
      "           2       1.00      1.00      1.00        11\n",
      "\n",
      "    accuracy                           1.00        30\n",
      "   macro avg       1.00      1.00      1.00        30\n",
      "weighted avg       1.00      1.00      1.00        30\n",
      "\n"
     ]
    }
   ],
   "source": [
    "print(\"\\nClassification Report:\\n\", classification_report(y_test, y_pred))"
   ]
  },
  {
   "cell_type": "code",
   "execution_count": null,
   "id": "5c891639-e1f9-4167-bda4-a2c957c94d66",
   "metadata": {},
   "outputs": [],
   "source": []
  }
 ],
 "metadata": {
  "kernelspec": {
   "display_name": "Python 3 (ipykernel)",
   "language": "python",
   "name": "python3"
  },
  "language_info": {
   "codemirror_mode": {
    "name": "ipython",
    "version": 3
   },
   "file_extension": ".py",
   "mimetype": "text/x-python",
   "name": "python",
   "nbconvert_exporter": "python",
   "pygments_lexer": "ipython3",
   "version": "3.11.5"
  }
 },
 "nbformat": 4,
 "nbformat_minor": 5
}
